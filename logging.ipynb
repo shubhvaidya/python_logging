{
 "cells": [
  {
   "cell_type": "code",
   "execution_count": 1,
   "id": "8c36a1d5",
   "metadata": {},
   "outputs": [],
   "source": [
    "import logging"
   ]
  },
  {
   "cell_type": "code",
   "execution_count": 2,
   "id": "829084b6",
   "metadata": {},
   "outputs": [],
   "source": [
    "logging.basicConfig(filename= \"test1.log\")"
   ]
  },
  {
   "cell_type": "code",
   "execution_count": 4,
   "id": "c6afff03",
   "metadata": {},
   "outputs": [],
   "source": [
    "logging.warning(\"this is my warnging log\")"
   ]
  },
  {
   "cell_type": "code",
   "execution_count": 5,
   "id": "b1873d8e",
   "metadata": {},
   "outputs": [],
   "source": [
    "logging.shutdown()"
   ]
  },
  {
   "cell_type": "code",
   "execution_count": 1,
   "id": "c692d0da",
   "metadata": {},
   "outputs": [
    {
     "ename": "NameError",
     "evalue": "name 'logging' is not defined",
     "output_type": "error",
     "traceback": [
      "\u001b[1;31m---------------------------------------------------------------------------\u001b[0m",
      "\u001b[1;31mNameError\u001b[0m                                 Traceback (most recent call last)",
      "Cell \u001b[1;32mIn[1], line 1\u001b[0m\n\u001b[1;32m----> 1\u001b[0m logging\u001b[38;5;241m.\u001b[39mbasicConfig(filename \u001b[38;5;241m=\u001b[39m \u001b[38;5;124m\"\u001b[39m\u001b[38;5;124mtest2.log\u001b[39m\u001b[38;5;124m\"\u001b[39m, level\u001b[38;5;241m=\u001b[39mlogging\u001b[38;5;241m.\u001b[39mDEBUG, \u001b[38;5;28mformat\u001b[39m \u001b[38;5;241m=\u001b[39m\u001b[38;5;124m'\u001b[39m\u001b[38;5;132;01m%(asctime)s\u001b[39;00m\u001b[38;5;124m \u001b[39m\u001b[38;5;132;01m%(message)s\u001b[39;00m\u001b[38;5;124m'\u001b[39m)\n",
      "\u001b[1;31mNameError\u001b[0m: name 'logging' is not defined"
     ]
    }
   ],
   "source": [
    "logging.basicConfig(filename = \"test2.log\", level=logging.DEBUG, format ='%(asctime)s %(message)s')"
   ]
  },
  {
   "cell_type": "code",
   "execution_count": null,
   "id": "37485f50",
   "metadata": {},
   "outputs": [],
   "source": [
    "logging.info(\"THIH UGIUGuig eugh h\")"
   ]
  },
  {
   "cell_type": "code",
   "execution_count": 1,
   "id": "4c158195",
   "metadata": {},
   "outputs": [],
   "source": [
    " import logging"
   ]
  },
  {
   "cell_type": "code",
   "execution_count": 3,
   "id": "fb619cae",
   "metadata": {},
   "outputs": [],
   "source": [
    "logging.basicConfig(filename = \"test2 .log\", level = logging.DEBUG, format = '%(asctime)s %(levelname)s %(message)s')"
   ]
  },
  {
   "cell_type": "code",
   "execution_count": 4,
   "id": "f933a7f9",
   "metadata": {},
   "outputs": [],
   "source": [
    "logging.warning(\"this is my warning\")"
   ]
  },
  {
   "cell_type": "code",
   "execution_count": null,
   "id": "e2fbb61f",
   "metadata": {},
   "outputs": [],
   "source": [
    "def divisionbyzero(a,b):\n",
    "    logging.info( \"this is start of my code and this is %s and %s \",a,b)\n",
    "    try :\n",
    "        div= a "
   ]
  },
  {
   "cell_type": "code",
   "execution_count": 1,
   "id": "5023e1f2",
   "metadata": {},
   "outputs": [],
   "source": [
    "import logging"
   ]
  },
  {
   "cell_type": "code",
   "execution_count": 6,
   "id": "ce9b0660",
   "metadata": {},
   "outputs": [],
   "source": [
    "logging.basicConfig(filename = \"vaidya.log\" , level = logging.DEBUG, format= \"%(asctime)s %(levelname)s %(message)s\")"
   ]
  },
  {
   "cell_type": "code",
   "execution_count": 7,
   "id": "8204c3be",
   "metadata": {},
   "outputs": [],
   "source": [
    "def test1(a,b):\n",
    "    logging.info(\"i try to enter %s and %s\", a , b)\n",
    "    try:\n",
    "        div= a/b\n",
    "        logging.info(\"execute succesfully\")\n",
    "    except Exception as e :\n",
    "        logging.error(\"error happend\")\n",
    "        logging.exception(\"exception error\", +str() )"
   ]
  },
  {
   "cell_type": "code",
   "execution_count": 8,
   "id": "72a15aec",
   "metadata": {},
   "outputs": [
    {
     "name": "stderr",
     "output_type": "stream",
     "text": [
      "--- Logging error ---\n",
      "Traceback (most recent call last):\n",
      "  File \"C:\\anaconda\\Lib\\logging\\__init__.py\", line 449, in format\n",
      "    return self._format(record)\n",
      "           ^^^^^^^^^^^^^^^^^^^^\n",
      "  File \"C:\\anaconda\\Lib\\logging\\__init__.py\", line 445, in _format\n",
      "    return self._fmt % values\n",
      "           ~~~~~~~~~~^~~~~~~~\n",
      "KeyError: 'messege'\n",
      "\n",
      "During handling of the above exception, another exception occurred:\n",
      "\n",
      "Traceback (most recent call last):\n",
      "  File \"C:\\anaconda\\Lib\\logging\\__init__.py\", line 1110, in emit\n",
      "    msg = self.format(record)\n",
      "          ^^^^^^^^^^^^^^^^^^^\n",
      "  File \"C:\\anaconda\\Lib\\logging\\__init__.py\", line 953, in format\n",
      "    return fmt.format(record)\n",
      "           ^^^^^^^^^^^^^^^^^^\n",
      "  File \"C:\\anaconda\\Lib\\logging\\__init__.py\", line 690, in format\n",
      "    s = self.formatMessage(record)\n",
      "        ^^^^^^^^^^^^^^^^^^^^^^^^^^\n",
      "  File \"C:\\anaconda\\Lib\\logging\\__init__.py\", line 659, in formatMessage\n",
      "    return self._style.format(record)\n",
      "           ^^^^^^^^^^^^^^^^^^^^^^^^^^\n",
      "  File \"C:\\anaconda\\Lib\\logging\\__init__.py\", line 451, in format\n",
      "    raise ValueError('Formatting field not found in record: %s' % e)\n",
      "ValueError: Formatting field not found in record: 'messege'\n",
      "Call stack:\n",
      "  File \"<frozen runpy>\", line 198, in _run_module_as_main\n",
      "  File \"<frozen runpy>\", line 88, in _run_code\n",
      "  File \"C:\\anaconda\\Lib\\site-packages\\ipykernel_launcher.py\", line 17, in <module>\n",
      "    app.launch_new_instance()\n",
      "  File \"C:\\anaconda\\Lib\\site-packages\\traitlets\\config\\application.py\", line 992, in launch_instance\n",
      "    app.start()\n",
      "  File \"C:\\anaconda\\Lib\\site-packages\\ipykernel\\kernelapp.py\", line 736, in start\n",
      "    self.io_loop.start()\n",
      "  File \"C:\\anaconda\\Lib\\site-packages\\tornado\\platform\\asyncio.py\", line 195, in start\n",
      "    self.asyncio_loop.run_forever()\n",
      "  File \"C:\\anaconda\\Lib\\asyncio\\base_events.py\", line 607, in run_forever\n",
      "    self._run_once()\n",
      "  File \"C:\\anaconda\\Lib\\asyncio\\base_events.py\", line 1922, in _run_once\n",
      "    handle._run()\n",
      "  File \"C:\\anaconda\\Lib\\asyncio\\events.py\", line 80, in _run\n",
      "    self._context.run(self._callback, *self._args)\n",
      "  File \"C:\\anaconda\\Lib\\site-packages\\ipykernel\\kernelbase.py\", line 516, in dispatch_queue\n",
      "    await self.process_one()\n",
      "  File \"C:\\anaconda\\Lib\\site-packages\\ipykernel\\kernelbase.py\", line 505, in process_one\n",
      "    await dispatch(*args)\n",
      "  File \"C:\\anaconda\\Lib\\site-packages\\ipykernel\\kernelbase.py\", line 412, in dispatch_shell\n",
      "    await result\n",
      "  File \"C:\\anaconda\\Lib\\site-packages\\ipykernel\\kernelbase.py\", line 740, in execute_request\n",
      "    reply_content = await reply_content\n",
      "  File \"C:\\anaconda\\Lib\\site-packages\\ipykernel\\ipkernel.py\", line 422, in do_execute\n",
      "    res = shell.run_cell(\n",
      "  File \"C:\\anaconda\\Lib\\site-packages\\ipykernel\\zmqshell.py\", line 546, in run_cell\n",
      "    return super().run_cell(*args, **kwargs)\n",
      "  File \"C:\\anaconda\\Lib\\site-packages\\IPython\\core\\interactiveshell.py\", line 3024, in run_cell\n",
      "    result = self._run_cell(\n",
      "  File \"C:\\anaconda\\Lib\\site-packages\\IPython\\core\\interactiveshell.py\", line 3079, in _run_cell\n",
      "    result = runner(coro)\n",
      "  File \"C:\\anaconda\\Lib\\site-packages\\IPython\\core\\async_helpers.py\", line 129, in _pseudo_sync_runner\n",
      "    coro.send(None)\n",
      "  File \"C:\\anaconda\\Lib\\site-packages\\IPython\\core\\interactiveshell.py\", line 3284, in run_cell_async\n",
      "    has_raised = await self.run_ast_nodes(code_ast.body, cell_name,\n",
      "  File \"C:\\anaconda\\Lib\\site-packages\\IPython\\core\\interactiveshell.py\", line 3466, in run_ast_nodes\n",
      "    if await self.run_code(code, result, async_=asy):\n",
      "  File \"C:\\anaconda\\Lib\\site-packages\\IPython\\core\\interactiveshell.py\", line 3526, in run_code\n",
      "    exec(code_obj, self.user_global_ns, self.user_ns)\n",
      "  File \"C:\\Users\\INTEGRAL COMPUTER\\AppData\\Local\\Temp\\ipykernel_6396\\1309826083.py\", line 1, in <module>\n",
      "    test1(4,5)\n",
      "  File \"C:\\Users\\INTEGRAL COMPUTER\\AppData\\Local\\Temp\\ipykernel_6396\\2999213570.py\", line 2, in test1\n",
      "    logging.info(\"i try to enter %s and %s\", a , b)\n",
      "Message: 'i try to enter %s and %s'\n",
      "Arguments: (4, 5)\n",
      "--- Logging error ---\n",
      "Traceback (most recent call last):\n",
      "  File \"C:\\anaconda\\Lib\\logging\\__init__.py\", line 449, in format\n",
      "    return self._format(record)\n",
      "           ^^^^^^^^^^^^^^^^^^^^\n",
      "  File \"C:\\anaconda\\Lib\\logging\\__init__.py\", line 445, in _format\n",
      "    return self._fmt % values\n",
      "           ~~~~~~~~~~^~~~~~~~\n",
      "KeyError: 'messege'\n",
      "\n",
      "During handling of the above exception, another exception occurred:\n",
      "\n",
      "Traceback (most recent call last):\n",
      "  File \"C:\\anaconda\\Lib\\logging\\__init__.py\", line 1110, in emit\n",
      "    msg = self.format(record)\n",
      "          ^^^^^^^^^^^^^^^^^^^\n",
      "  File \"C:\\anaconda\\Lib\\logging\\__init__.py\", line 953, in format\n",
      "    return fmt.format(record)\n",
      "           ^^^^^^^^^^^^^^^^^^\n",
      "  File \"C:\\anaconda\\Lib\\logging\\__init__.py\", line 690, in format\n",
      "    s = self.formatMessage(record)\n",
      "        ^^^^^^^^^^^^^^^^^^^^^^^^^^\n",
      "  File \"C:\\anaconda\\Lib\\logging\\__init__.py\", line 659, in formatMessage\n",
      "    return self._style.format(record)\n",
      "           ^^^^^^^^^^^^^^^^^^^^^^^^^^\n",
      "  File \"C:\\anaconda\\Lib\\logging\\__init__.py\", line 451, in format\n",
      "    raise ValueError('Formatting field not found in record: %s' % e)\n",
      "ValueError: Formatting field not found in record: 'messege'\n",
      "Call stack:\n",
      "  File \"<frozen runpy>\", line 198, in _run_module_as_main\n",
      "  File \"<frozen runpy>\", line 88, in _run_code\n",
      "  File \"C:\\anaconda\\Lib\\site-packages\\ipykernel_launcher.py\", line 17, in <module>\n",
      "    app.launch_new_instance()\n",
      "  File \"C:\\anaconda\\Lib\\site-packages\\traitlets\\config\\application.py\", line 992, in launch_instance\n",
      "    app.start()\n",
      "  File \"C:\\anaconda\\Lib\\site-packages\\ipykernel\\kernelapp.py\", line 736, in start\n",
      "    self.io_loop.start()\n",
      "  File \"C:\\anaconda\\Lib\\site-packages\\tornado\\platform\\asyncio.py\", line 195, in start\n",
      "    self.asyncio_loop.run_forever()\n",
      "  File \"C:\\anaconda\\Lib\\asyncio\\base_events.py\", line 607, in run_forever\n",
      "    self._run_once()\n",
      "  File \"C:\\anaconda\\Lib\\asyncio\\base_events.py\", line 1922, in _run_once\n",
      "    handle._run()\n",
      "  File \"C:\\anaconda\\Lib\\asyncio\\events.py\", line 80, in _run\n",
      "    self._context.run(self._callback, *self._args)\n",
      "  File \"C:\\anaconda\\Lib\\site-packages\\ipykernel\\kernelbase.py\", line 516, in dispatch_queue\n",
      "    await self.process_one()\n",
      "  File \"C:\\anaconda\\Lib\\site-packages\\ipykernel\\kernelbase.py\", line 505, in process_one\n",
      "    await dispatch(*args)\n",
      "  File \"C:\\anaconda\\Lib\\site-packages\\ipykernel\\kernelbase.py\", line 412, in dispatch_shell\n",
      "    await result\n",
      "  File \"C:\\anaconda\\Lib\\site-packages\\ipykernel\\kernelbase.py\", line 740, in execute_request\n",
      "    reply_content = await reply_content\n",
      "  File \"C:\\anaconda\\Lib\\site-packages\\ipykernel\\ipkernel.py\", line 422, in do_execute\n",
      "    res = shell.run_cell(\n",
      "  File \"C:\\anaconda\\Lib\\site-packages\\ipykernel\\zmqshell.py\", line 546, in run_cell\n",
      "    return super().run_cell(*args, **kwargs)\n",
      "  File \"C:\\anaconda\\Lib\\site-packages\\IPython\\core\\interactiveshell.py\", line 3024, in run_cell\n",
      "    result = self._run_cell(\n",
      "  File \"C:\\anaconda\\Lib\\site-packages\\IPython\\core\\interactiveshell.py\", line 3079, in _run_cell\n",
      "    result = runner(coro)\n",
      "  File \"C:\\anaconda\\Lib\\site-packages\\IPython\\core\\async_helpers.py\", line 129, in _pseudo_sync_runner\n",
      "    coro.send(None)\n",
      "  File \"C:\\anaconda\\Lib\\site-packages\\IPython\\core\\interactiveshell.py\", line 3284, in run_cell_async\n",
      "    has_raised = await self.run_ast_nodes(code_ast.body, cell_name,\n",
      "  File \"C:\\anaconda\\Lib\\site-packages\\IPython\\core\\interactiveshell.py\", line 3466, in run_ast_nodes\n",
      "    if await self.run_code(code, result, async_=asy):\n",
      "  File \"C:\\anaconda\\Lib\\site-packages\\IPython\\core\\interactiveshell.py\", line 3526, in run_code\n",
      "    exec(code_obj, self.user_global_ns, self.user_ns)\n",
      "  File \"C:\\Users\\INTEGRAL COMPUTER\\AppData\\Local\\Temp\\ipykernel_6396\\1309826083.py\", line 1, in <module>\n",
      "    test1(4,5)\n",
      "  File \"C:\\Users\\INTEGRAL COMPUTER\\AppData\\Local\\Temp\\ipykernel_6396\\2999213570.py\", line 5, in test1\n",
      "    logging.info(\"execute succesfully\")\n",
      "Message: 'execute succesfully'\n",
      "Arguments: ()\n"
     ]
    }
   ],
   "source": [
    "test1(4,5)"
   ]
  },
  {
   "cell_type": "code",
   "execution_count": 1,
   "id": "247b98f8",
   "metadata": {},
   "outputs": [],
   "source": [
    "import logging\n",
    "logging.basicConfig(filename=\"marsh.log\", level = logging.DEBUG, format = \"%(asctime)s %(levelname)s %(messege)s\")"
   ]
  },
  {
   "cell_type": "code",
   "execution_count": 4,
   "id": "e8200fad",
   "metadata": {},
   "outputs": [],
   "source": [
    "def div(a,b):\n",
    "    logging.info(\"i try to enter %s and %s \", a, b)\n",
    "    try :\n",
    "        div = a/b\n",
    "        logging.info(\"execute sucsefuly\")\n",
    "    except Exception as e:\n",
    "        logging.error(\"error occured\")\n",
    "        logging.exception(\"exception error\" ,+str())"
   ]
  },
  {
   "cell_type": "code",
   "execution_count": 6,
   "id": "3fef1d8d",
   "metadata": {},
   "outputs": [
    {
     "ename": "NameError",
     "evalue": "name 'div' is not defined",
     "output_type": "error",
     "traceback": [
      "\u001b[1;31m---------------------------------------------------------------------------\u001b[0m",
      "\u001b[1;31mNameError\u001b[0m                                 Traceback (most recent call last)",
      "Cell \u001b[1;32mIn[6], line 1\u001b[0m\n\u001b[1;32m----> 1\u001b[0m div(\u001b[38;5;241m4\u001b[39m,\u001b[38;5;241m5\u001b[39m)\n",
      "\u001b[1;31mNameError\u001b[0m: name 'div' is not defined"
     ]
    }
   ],
   "source": [
    "div(4,5)"
   ]
  },
  {
   "cell_type": "code",
   "execution_count": 1,
   "id": "4c28a42c",
   "metadata": {},
   "outputs": [],
   "source": [
    "import logging"
   ]
  },
  {
   "cell_type": "code",
   "execution_count": 19,
   "id": "ff4a2642",
   "metadata": {},
   "outputs": [],
   "source": [
    "logging.basicConfig(filename = \"kash.log\", level = logging.DEBUG , format = \"%(asctime)s %(levelname)s %(message)s\" )"
   ]
  },
  {
   "cell_type": "code",
   "execution_count": 25,
   "id": "370caece",
   "metadata": {},
   "outputs": [],
   "source": [
    "def test1(a, b):\n",
    "    logging.info(\"i try to enter %s and %s \", a, b)\n",
    "    try :\n",
    "        div = a/b\n",
    "        logging.info(\"excecute succesfully\")\n",
    "    except Exception as e :\n",
    "        logging.error(\"error occured\")\n",
    "        logging.exception(\"exceptional error\" + str(e) )"
   ]
  },
  {
   "cell_type": "code",
   "execution_count": 21,
   "id": "5bacc45a",
   "metadata": {},
   "outputs": [],
   "source": [
    "test1(4,7)"
   ]
  },
  {
   "cell_type": "code",
   "execution_count": 26,
   "id": "c1014128",
   "metadata": {},
   "outputs": [],
   "source": [
    "test1(4,0)"
   ]
  },
  {
   "cell_type": "code",
   "execution_count": null,
   "id": "fbc38a93",
   "metadata": {},
   "outputs": [],
   "source": []
  }
 ],
 "metadata": {
  "kernelspec": {
   "display_name": "Python 3 (ipykernel)",
   "language": "python",
   "name": "python3"
  },
  "language_info": {
   "codemirror_mode": {
    "name": "ipython",
    "version": 3
   },
   "file_extension": ".py",
   "mimetype": "text/x-python",
   "name": "python",
   "nbconvert_exporter": "python",
   "pygments_lexer": "ipython3",
   "version": "3.11.5"
  }
 },
 "nbformat": 4,
 "nbformat_minor": 5
}
